import urx
import numpy as np
from math import cos as c
from math import sin as s
from math import pi
import time
from matplotlib import pyplot as plt

robot_3 = urx.Robot(host='192.168.88.161', use_rt=True)
time.sleep(15)
robot_10 = urx.Robot(host='192.168.88.162', use_rt=True)
time.sleep(15)

#Пложение точки в конкретной позиции


in_3 = [-1.5732877890216272,
 -1.6902406851397913,
 -1.8206809202777308,
 -1.1367376486407679,
 1.5629624128341675,
 -20.379122034687583]

in_10 = [0.24709974229335785,
 -2.098222557698385,
 -1.8164876143084925,
 2.08876371383667,
 -0.2021549383746546,
 0.2890205681324005]
robot_10.movej(in_10, 0.5, 0.5)
robot_3.movej(in_3, 0.5, 0.5)

